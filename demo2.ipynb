{
 "cells": [
  {
   "cell_type": "markdown",
   "metadata": {},
   "source": [
    "# Video Object Detection with SSD Demo"
   ]
  },
  {
   "cell_type": "markdown",
   "metadata": {},
   "source": [
    "## Import"
   ]
  },
  {
   "cell_type": "code",
   "execution_count": 1,
   "metadata": {},
   "outputs": [],
   "source": [
    "from __future__ import division\n",
    "import os\n",
    "import sys\n",
    "module_path = os.path.abspath(os.path.join('..'))\n",
    "if module_path not in sys.path:\n",
    "    sys.path.append(module_path)\n",
    "\n",
    "import torch\n",
    "import torch.nn as nn\n",
    "import torch.backends.cudnn as cudnn\n",
    "from torch.autograd import Variable\n",
    "import numpy as np \n",
    "import cv2\n",
    "if torch.cuda.is_available():\n",
    "    torch.set_default_tensor_type('torch.cuda.FloatTensor')\n",
    "    \n",
    "import time\n",
    "import os.path as osp\n",
    "import pickle as pkl\n",
    "import pandas as pd\n",
    "import random\n",
    "import matplotlib.pyplot as plt\n",
    "\n",
    "from util import *\n",
    "from ssd import build_ssd\n",
    "from data import VOC_CLASSES as labels\n",
    "%matplotlib inline"
   ]
  },
  {
   "cell_type": "markdown",
   "metadata": {},
   "source": [
    "## Initialization"
   ]
  },
  {
   "cell_type": "code",
   "execution_count": 2,
   "metadata": {},
   "outputs": [
    {
     "name": "stdout",
     "output_type": "stream",
     "text": [
      "Loading weights into state dict...\n",
      "Finished!\n"
     ]
    }
   ],
   "source": [
    "CUDA = torch.cuda.is_available()\n",
    "\n",
    "videofile= 'test3.avi'\n",
    "cap = cv2.VideoCapture(videofile)  \n",
    "\n",
    "assert cap.isOpened(), 'Cannot capture source'\n",
    "\n",
    "frames = 0  \n",
    "start = time.time()\n",
    "top_k=10\n",
    "\n",
    "net = build_ssd('test', 300, 21)    # initialize SSD\n",
    "net.load_weights('../weights/ssd300_mAP_77.43_v2.pth')"
   ]
  },
  {
   "cell_type": "markdown",
   "metadata": {},
   "source": [
    "## Generating Images"
   ]
  },
  {
   "cell_type": "code",
   "execution_count": 44,
   "metadata": {},
   "outputs": [],
   "source": [
    "cap = cv2.VideoCapture(videofile)  \n",
    "t=0\n",
    "while cap.isOpened():\n",
    "    ret, frame = cap.read()\n",
    "    inp_dim= 300\n",
    "    img = cv2.resize(frame, (inp_dim, inp_dim))\n",
    "    im_dim = frame.shape[1], frame.shape[0]\n",
    "    im_dim = torch.FloatTensor(im_dim).repeat(1,2)\n",
    "    img_=img[:,:,::-1]\n",
    "    #plt.imshow(img_)\n",
    "    img0 = cv2.resize(img, (300, 300)).astype(np.float32)\n",
    "    img0 -= (104.0, 117.0, 123.0)\n",
    "    img0 = img0.astype(np.float32)\n",
    "    img0 = img0[:, :, ::-1].copy()\n",
    "    img0 = torch.from_numpy(img0).permute(2, 0, 1)\n",
    "    img00 = Variable(img0.unsqueeze(0))\n",
    "    if torch.cuda.is_available():\n",
    "        img00 = img00.cuda()\n",
    "    y = net(img00)\n",
    "\n",
    "\n",
    "    plt.figure(figsize=(12,12))\n",
    "    colors = plt.cm.hsv(np.linspace(0, 1, 21)).tolist()\n",
    "    plt.imshow(img_)  # plot the image for matplotlib\n",
    "    currentAxis = plt.gca()\n",
    "\n",
    "    detections = y.data\n",
    "    # scale each detection back up to the image\n",
    "    scale = torch.Tensor(img_.shape[1::-1]).repeat(2)\n",
    "    for i in range(detections.size(1)):\n",
    "        j = 0\n",
    "        while detections[0,i,j,0] >= 0.56:\n",
    "            score = detections[0,i,j,0]\n",
    "            label_name = labels[i-1]\n",
    "            display_txt = '%s: %.2f'%(label_name, score)\n",
    "            pt = (detections[0,i,j,1:]*scale).cpu().numpy()\n",
    "            coords = (pt[0], pt[1]), pt[2]-pt[0]+1, pt[3]-pt[1]+1\n",
    "            color = colors[i]\n",
    "            currentAxis.add_patch(plt.Rectangle(*coords, fill=False, edgecolor=color, linewidth=2))\n",
    "            currentAxis.text(pt[0], pt[1], display_txt, bbox={'facecolor':color, 'alpha':0.5})\n",
    "            #print(detections[0,i,j,0])\n",
    "            j+=1\n",
    "\n",
    "    plt.savefig('outputs/p{0}.jpg'.format(t))\n",
    "    t=t+1"
   ]
  },
  {
   "cell_type": "markdown",
   "metadata": {},
   "source": [
    "## Generating Output Video"
   ]
  },
  {
   "cell_type": "code",
   "execution_count": 40,
   "metadata": {},
   "outputs": [],
   "source": [
    "path='/Users/zhouminghao/Desktop/codes/ssd.pytorch/demo/outputs/'\n",
    "#imgs2video(path,'output_v.avi')\n",
    "fps=8\n",
    "img=[]\n",
    "for i in range(0,246):\n",
    "    img.append(cv2.imread(path+'p{0}.jpg'.format(i)))\n",
    "height,width,layers=img[1].shape"
   ]
  },
  {
   "cell_type": "code",
   "execution_count": 43,
   "metadata": {},
   "outputs": [],
   "source": [
    "fourcc = cv2.VideoWriter_fourcc(*'MJPG')\n",
    "videoWriter = cv2.VideoWriter('saveVideo.avi',fourcc,fps,(height,width))#最后一个是保存图片的尺寸\n",
    "\n",
    "for i in range(246):\n",
    "    frame = cv2.imread(path+'p{0}.jpg'.format(i))\n",
    "    videoWriter.write(frame)\n",
    "videoWriter.release()"
   ]
  },
  {
   "cell_type": "code",
   "execution_count": null,
   "metadata": {},
   "outputs": [],
   "source": []
  }
 ],
 "metadata": {
  "anaconda-cloud": {},
  "kernelspec": {
   "display_name": "Python 3",
   "language": "python",
   "name": "python3"
  },
  "language_info": {
   "codemirror_mode": {
    "name": "ipython",
    "version": 3
   },
   "file_extension": ".py",
   "mimetype": "text/x-python",
   "name": "python",
   "nbconvert_exporter": "python",
   "pygments_lexer": "ipython3",
   "version": "3.6.4"
  }
 },
 "nbformat": 4,
 "nbformat_minor": 1
}
